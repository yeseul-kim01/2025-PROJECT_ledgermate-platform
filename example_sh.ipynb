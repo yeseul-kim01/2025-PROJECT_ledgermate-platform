{
 "cells": [
  {
   "cell_type": "code",
   "execution_count": null,
   "metadata": {},
   "outputs": [],
   "source": [
    "python examples/ingest_budget_pdf.py \\\n",
    "  \"data/receipts-sample/예산안.pdf\" \\\n",
    "  --org-id demo.univ \\\n",
    "  --title \"2024 하반기 예산안\" \\\n",
    "  --period-from 2024-07-01 --period-to 2024-12-31 \\\n",
    "  --policy-id 66c0efa9-fbe6-446a-9c7e-dd94904926d1 \\\n",
    "  --parse --chunk \\\n",
    "  --created-by yeseul"
   ]
  }
 ],
 "metadata": {
  "language_info": {
   "name": "python"
  }
 },
 "nbformat": 4,
 "nbformat_minor": 2
}
